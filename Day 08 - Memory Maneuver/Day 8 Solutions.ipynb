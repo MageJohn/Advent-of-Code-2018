{
 "cells": [
  {
   "cell_type": "markdown",
   "metadata": {},
   "source": [
    "# Part One"
   ]
  },
  {
   "cell_type": "markdown",
   "metadata": {},
   "source": [
    "Today's puzzle lends itself quite well to an iterative solution using a stack. Very little code is needed to build the graph."
   ]
  },
  {
   "cell_type": "code",
   "execution_count": 28,
   "metadata": {},
   "outputs": [],
   "source": [
    "from collections import deque\n",
    "from itertools import islice\n",
    "\n",
    "def by_num(filename):\n",
    "    with open(filename) as f:\n",
    "        data = f.read()\n",
    "    for n in iter(data.split()):\n",
    "        yield int(n)\n",
    "\n",
    "\n",
    "def sum_metadata(filename):\n",
    "    numbers = by_num(filename)\n",
    "    stack = deque()\n",
    "    md_sum = 0\n",
    "    stack.append([next(numbers), next(numbers)])\n",
    "    while stack:\n",
    "        if stack[-1][0] > 0:\n",
    "            # more children to process\n",
    "            stack[-1][0] -= 1\n",
    "            stack.append([next(numbers), next(numbers)])\n",
    "        else:\n",
    "            # no more children, process metadata\n",
    "            nodes, nmd = stack.pop()\n",
    "            md_sum += sum(islice(numbers, nmd))\n",
    "    return md_sum"
   ]
  },
  {
   "cell_type": "code",
   "execution_count": 29,
   "metadata": {},
   "outputs": [
    {
     "data": {
      "text/plain": [
       "138"
      ]
     },
     "execution_count": 29,
     "metadata": {},
     "output_type": "execute_result"
    }
   ],
   "source": [
    "sum_metadata(\"testinput.txt\")"
   ]
  },
  {
   "cell_type": "code",
   "execution_count": 30,
   "metadata": {},
   "outputs": [
    {
     "data": {
      "text/plain": [
       "42146"
      ]
     },
     "execution_count": 30,
     "metadata": {},
     "output_type": "execute_result"
    }
   ],
   "source": [
    "sum_metadata(\"input.txt\")"
   ]
  },
  {
   "cell_type": "markdown",
   "metadata": {},
   "source": [
    "# Part Two"
   ]
  },
  {
   "cell_type": "code",
   "execution_count": 18,
   "metadata": {},
   "outputs": [],
   "source": [
    "def root_value(filename):\n",
    "    numbers = by_num(filename)\n",
    "    stack = deque()\n",
    "    stack.append([next(numbers), next(numbers), []])\n",
    "    while stack:\n",
    "        if stack[-1][0]:\n",
    "            # more children to process\n",
    "            stack[-1][0] -= 1\n",
    "            stack.append([next(numbers), next(numbers), []])\n",
    "        else:\n",
    "            # no more children, calculate value\n",
    "            _, nmd, child_values = stack.pop()\n",
    "            if len(child_values):\n",
    "                value = 0\n",
    "                for n in islice(numbers, nmd):\n",
    "                    n -= 1\n",
    "                    if n in range(len(child_values)):\n",
    "                        value += child_values[n]\n",
    "            else:\n",
    "                value = sum(islice(numbers, nmd))\n",
    "            if stack:\n",
    "                stack[-1][2].append(value)\n",
    "    return value"
   ]
  },
  {
   "cell_type": "code",
   "execution_count": 19,
   "metadata": {},
   "outputs": [
    {
     "data": {
      "text/plain": [
       "66"
      ]
     },
     "execution_count": 19,
     "metadata": {},
     "output_type": "execute_result"
    }
   ],
   "source": [
    "root_value(\"testinput.txt\")"
   ]
  },
  {
   "cell_type": "code",
   "execution_count": 20,
   "metadata": {},
   "outputs": [
    {
     "data": {
      "text/plain": [
       "26753"
      ]
     },
     "execution_count": 20,
     "metadata": {},
     "output_type": "execute_result"
    }
   ],
   "source": [
    "root_value(\"input.txt\")"
   ]
  },
  {
   "cell_type": "code",
   "execution_count": null,
   "metadata": {},
   "outputs": [],
   "source": []
  }
 ],
 "metadata": {
  "kernelspec": {
   "display_name": "Python 3",
   "language": "python",
   "name": "python3"
  },
  "language_info": {
   "codemirror_mode": {
    "name": "ipython",
    "version": 3
   },
   "file_extension": ".py",
   "mimetype": "text/x-python",
   "name": "python",
   "nbconvert_exporter": "python",
   "pygments_lexer": "ipython3",
   "version": "3.7.1"
  }
 },
 "nbformat": 4,
 "nbformat_minor": 2
}
