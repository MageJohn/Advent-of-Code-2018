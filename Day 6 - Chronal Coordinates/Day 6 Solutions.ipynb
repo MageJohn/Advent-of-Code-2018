{
 "cells": [
  {
   "cell_type": "markdown",
   "metadata": {},
   "source": [
    "# Part One"
   ]
  },
  {
   "cell_type": "markdown",
   "metadata": {},
   "source": [
    "Today the problem asks us to make what are essentially [Voronoi diagrams](https://en.wikipedia.org/wiki/Voronoi_diagram), using Manhatten distance. There is an algorithm called [Fortune's  Algorithm](https://en.wikipedia.org/wiki/Fortune%27s_algorithm) for creating them. It may be possible to adapt this algorithm to solve today's problem.\n",
    "\n",
    "Fortune's algorithm is specifically for drawing the lines, to show the equidistant points. This problem doesn't require that. Instead, we need to mark the areas. Because of the discrete nature of the grid, it is in fact common for there to exist no line of equidistant points between two regions. Nonetheless, a sweep line algorithm like Fortune's may be useful.\n",
    "\n",
    "Instead of calculating the parabolas, we can iterate over the "
   ]
  },
  {
   "cell_type": "code",
   "execution_count": null,
   "metadata": {},
   "outputs": [],
   "source": []
  }
 ],
 "metadata": {
  "kernelspec": {
   "display_name": "Python 3",
   "language": "python",
   "name": "python3"
  },
  "language_info": {
   "codemirror_mode": {
    "name": "ipython",
    "version": 3
   },
   "file_extension": ".py",
   "mimetype": "text/x-python",
   "name": "python",
   "nbconvert_exporter": "python",
   "pygments_lexer": "ipython3",
   "version": "3.7.1"
  }
 },
 "nbformat": 4,
 "nbformat_minor": 2
}
