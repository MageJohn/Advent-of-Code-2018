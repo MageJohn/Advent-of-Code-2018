{
 "cells": [
  {
   "cell_type": "markdown",
   "metadata": {},
   "source": [
    "First, data structures. Lets start with records. They need to be orderable, so we can sort them."
   ]
  },
  {
   "cell_type": "code",
   "execution_count": 1,
   "metadata": {},
   "outputs": [],
   "source": [
    "from dataclasses import dataclass, field\n",
    "from datetime import datetime\n",
    "import re\n",
    "\n",
    "PATTERN = re.compile(r\"\\[(\\d*)-(\\d*)-(\\d*) (\\d*):(\\d*)] (.*)\") \n",
    "\n",
    "@dataclass(frozen=True, order=True)\n",
    "class Record:\n",
    "    dt: datetime = field(compare=True)\n",
    "    event: str = field(compare=False)\n",
    "\n",
    "\n",
    "def record_factory(record_string):\n",
    "    match = PATTERN.match(record_string).groups()\n",
    "    dt = [int(s) for s in match[:-1]]\n",
    "    event = match[-1]\n",
    "    return Record(datetime(*dt), event)"
   ]
  },
  {
   "cell_type": "code",
   "execution_count": 6,
   "metadata": {},
   "outputs": [
    {
     "data": {
      "text/plain": [
       "Record(dt=datetime.datetime(1518, 11, 1, 0, 0), event='Guard #10 begins shift')"
      ]
     },
     "execution_count": 6,
     "metadata": {},
     "output_type": "execute_result"
    }
   ],
   "source": [
    "record_factory(\"[1518-11-01 00:00] Guard #10 begins shift\")"
   ]
  },
  {
   "cell_type": "code",
   "execution_count": 3,
   "metadata": {},
   "outputs": [
    {
     "data": {
      "text/plain": [
       "True"
      ]
     },
     "execution_count": 3,
     "metadata": {},
     "output_type": "execute_result"
    }
   ],
   "source": [
    "record_factory(\"[1518-11-01 00:00] Guard #10 begins shift\") < record_factory(\"[1518-11-01 00:05] falls asleep\")"
   ]
  },
  {
   "cell_type": "markdown",
   "metadata": {},
   "source": [
    "Okay, now that we have an orderable Record class, lets get our input."
   ]
  },
  {
   "cell_type": "code",
   "execution_count": 4,
   "metadata": {},
   "outputs": [],
   "source": [
    "def read_input(filename):\n",
    "    with open(filename) as records:\n",
    "        records = [record_factory(record) for record in records.readlines()]\n",
    "    return sorted(records)"
   ]
  },
  {
   "cell_type": "code",
   "execution_count": 7,
   "metadata": {},
   "outputs": [
    {
     "data": {
      "text/plain": [
       "[Record(dt=datetime.datetime(1518, 11, 1, 0, 0), event='Guard #10 begins shift'),\n",
       " Record(dt=datetime.datetime(1518, 11, 1, 0, 5), event='falls asleep'),\n",
       " Record(dt=datetime.datetime(1518, 11, 1, 0, 25), event='wakes up'),\n",
       " Record(dt=datetime.datetime(1518, 11, 1, 0, 30), event='falls asleep'),\n",
       " Record(dt=datetime.datetime(1518, 11, 1, 0, 55), event='wakes up'),\n",
       " Record(dt=datetime.datetime(1518, 11, 1, 23, 58), event='Guard #99 begins shift'),\n",
       " Record(dt=datetime.datetime(1518, 11, 2, 0, 40), event='falls asleep'),\n",
       " Record(dt=datetime.datetime(1518, 11, 2, 0, 50), event='wakes up'),\n",
       " Record(dt=datetime.datetime(1518, 11, 3, 0, 5), event='Guard #10 begins shift'),\n",
       " Record(dt=datetime.datetime(1518, 11, 3, 0, 24), event='falls asleep'),\n",
       " Record(dt=datetime.datetime(1518, 11, 3, 0, 29), event='wakes up'),\n",
       " Record(dt=datetime.datetime(1518, 11, 4, 0, 2), event='Guard #99 begins shift'),\n",
       " Record(dt=datetime.datetime(1518, 11, 4, 0, 36), event='falls asleep'),\n",
       " Record(dt=datetime.datetime(1518, 11, 4, 0, 46), event='wakes up'),\n",
       " Record(dt=datetime.datetime(1518, 11, 5, 0, 3), event='Guard #99 begins shift'),\n",
       " Record(dt=datetime.datetime(1518, 11, 5, 0, 45), event='falls asleep'),\n",
       " Record(dt=datetime.datetime(1518, 11, 5, 0, 55), event='wakes up')]"
      ]
     },
     "execution_count": 7,
     "metadata": {},
     "output_type": "execute_result"
    }
   ],
   "source": [
    "read_input(\"testinput.txt\")"
   ]
  },
  {
   "cell_type": "code",
   "execution_count": null,
   "metadata": {},
   "outputs": [],
   "source": []
  }
 ],
 "metadata": {
  "kernelspec": {
   "display_name": "Python 3",
   "language": "python",
   "name": "python3"
  },
  "language_info": {
   "codemirror_mode": {
    "name": "ipython",
    "version": 3
   },
   "file_extension": ".py",
   "mimetype": "text/x-python",
   "name": "python",
   "nbconvert_exporter": "python",
   "pygments_lexer": "ipython3",
   "version": "3.7.1"
  }
 },
 "nbformat": 4,
 "nbformat_minor": 2
}
