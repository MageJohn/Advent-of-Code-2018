{
 "cells": [
  {
   "cell_type": "markdown",
   "metadata": {},
   "source": [
    "# Part One"
   ]
  },
  {
   "cell_type": "markdown",
   "metadata": {},
   "source": [
    "First, data structures. Lets start with records. They need to be orderable, so we can sort them."
   ]
  },
  {
   "cell_type": "code",
   "execution_count": 1,
   "metadata": {
    "scrolled": false
   },
   "outputs": [],
   "source": [
    "from dataclasses import dataclass, field\n",
    "from datetime import datetime\n",
    "import re\n",
    "\n",
    "PATTERN = re.compile(r\"\\[(\\d*)-(\\d*)-(\\d*) (\\d*):(\\d*)] (.*)\") \n",
    "\n",
    "@dataclass(frozen=True, order=True)\n",
    "class Record:\n",
    "    dt: datetime = field(compare=True)\n",
    "    event: str = field(compare=False)\n",
    "\n",
    "\n",
    "def record_factory(record_string):\n",
    "    match = PATTERN.match(record_string).groups()\n",
    "    dt = [int(s) for s in match[:-1]]\n",
    "    event = match[-1]\n",
    "    return Record(datetime(*dt), event)"
   ]
  },
  {
   "cell_type": "code",
   "execution_count": 2,
   "metadata": {},
   "outputs": [
    {
     "data": {
      "text/plain": [
       "Record(dt=datetime.datetime(1518, 11, 1, 0, 0), event='Guard #10 begins shift')"
      ]
     },
     "execution_count": 2,
     "metadata": {},
     "output_type": "execute_result"
    }
   ],
   "source": [
    "record_factory(\"[1518-11-01 00:00] Guard #10 begins shift\")"
   ]
  },
  {
   "cell_type": "code",
   "execution_count": 3,
   "metadata": {},
   "outputs": [
    {
     "data": {
      "text/plain": [
       "True"
      ]
     },
     "execution_count": 3,
     "metadata": {},
     "output_type": "execute_result"
    }
   ],
   "source": [
    "record_factory(\"[1518-11-01 00:00] Guard #10 begins shift\") < record_factory(\"[1518-11-01 00:05] falls asleep\")"
   ]
  },
  {
   "cell_type": "markdown",
   "metadata": {},
   "source": [
    "Okay, now that we have an orderable Record class, lets get our input."
   ]
  },
  {
   "cell_type": "code",
   "execution_count": 4,
   "metadata": {},
   "outputs": [],
   "source": [
    "def read_input(filename):\n",
    "    with open(filename) as records:\n",
    "        records = [record_factory(record) for record in records.readlines()]\n",
    "    return sorted(records)"
   ]
  },
  {
   "cell_type": "code",
   "execution_count": 5,
   "metadata": {
    "scrolled": true
   },
   "outputs": [
    {
     "data": {
      "text/plain": [
       "[Record(dt=datetime.datetime(1518, 11, 1, 0, 0), event='Guard #10 begins shift'),\n",
       " Record(dt=datetime.datetime(1518, 11, 1, 0, 5), event='falls asleep'),\n",
       " Record(dt=datetime.datetime(1518, 11, 1, 0, 25), event='wakes up'),\n",
       " Record(dt=datetime.datetime(1518, 11, 1, 0, 30), event='falls asleep'),\n",
       " Record(dt=datetime.datetime(1518, 11, 1, 0, 55), event='wakes up'),\n",
       " Record(dt=datetime.datetime(1518, 11, 1, 23, 58), event='Guard #99 begins shift'),\n",
       " Record(dt=datetime.datetime(1518, 11, 2, 0, 40), event='falls asleep'),\n",
       " Record(dt=datetime.datetime(1518, 11, 2, 0, 50), event='wakes up'),\n",
       " Record(dt=datetime.datetime(1518, 11, 3, 0, 5), event='Guard #10 begins shift'),\n",
       " Record(dt=datetime.datetime(1518, 11, 3, 0, 24), event='falls asleep'),\n",
       " Record(dt=datetime.datetime(1518, 11, 3, 0, 29), event='wakes up'),\n",
       " Record(dt=datetime.datetime(1518, 11, 4, 0, 2), event='Guard #99 begins shift'),\n",
       " Record(dt=datetime.datetime(1518, 11, 4, 0, 36), event='falls asleep'),\n",
       " Record(dt=datetime.datetime(1518, 11, 4, 0, 46), event='wakes up'),\n",
       " Record(dt=datetime.datetime(1518, 11, 5, 0, 3), event='Guard #99 begins shift'),\n",
       " Record(dt=datetime.datetime(1518, 11, 5, 0, 45), event='falls asleep'),\n",
       " Record(dt=datetime.datetime(1518, 11, 5, 0, 55), event='wakes up')]"
      ]
     },
     "execution_count": 5,
     "metadata": {},
     "output_type": "execute_result"
    }
   ],
   "source": [
    "read_input(\"testinput.txt\")"
   ]
  },
  {
   "cell_type": "markdown",
   "metadata": {},
   "source": [
    "We now have the input in a usable form. The plan is to build a dictionary with each guard as a key, and the value being the list of that guards sleep and wake events. This can then be used to calculate the total time each guard spends asleep. The data can then be sorted by time, (ignoring the date), and used to find the overlap."
   ]
  },
  {
   "cell_type": "markdown",
   "metadata": {},
   "source": [
    "First organising the data on each guard:"
   ]
  },
  {
   "cell_type": "code",
   "execution_count": 6,
   "metadata": {},
   "outputs": [],
   "source": [
    "def get_guard_data(records):\n",
    "    guard_id_pattern = re.compile(r\"Guard #(\\d*).*\")\n",
    "    data = {}\n",
    "    cur_guard = None\n",
    "    for record in records:\n",
    "        match = guard_id_pattern.match(record.event)\n",
    "        if match:\n",
    "            cur_guard = int(match.group(1))\n",
    "        else:\n",
    "            data.setdefault(cur_guard, []).append(record)\n",
    "    return data"
   ]
  },
  {
   "cell_type": "code",
   "execution_count": 7,
   "metadata": {},
   "outputs": [],
   "source": [
    "test_guard_data = get_guard_data(read_input(\"testinput.txt\"))"
   ]
  },
  {
   "cell_type": "markdown",
   "metadata": {},
   "source": [
    "Next, get total sleep time. `datetime.timedelta` is helpful for this. It doesn't record minutes in the delta though, so a conversion from seconds is necessary. The pairs function helps by giving each sleep/wake pair as a tuple."
   ]
  },
  {
   "cell_type": "code",
   "execution_count": 8,
   "metadata": {},
   "outputs": [],
   "source": [
    "def pairs(seq):\n",
    "    \"s0, s1, s2, s3 -> (s0, s1), (s2, s3)\"\n",
    "    return zip(seq[::2], seq[1::2])"
   ]
  },
  {
   "cell_type": "code",
   "execution_count": 9,
   "metadata": {},
   "outputs": [],
   "source": [
    "from datetime import timedelta\n",
    "\n",
    "\n",
    "def total_sleep_time(guard_data):\n",
    "    guards = {}\n",
    "    for guard_id in guard_data:\n",
    "        total = timedelta()\n",
    "        sleep_periods = pairs(guard_data[guard_id])\n",
    "        for period in sleep_periods:\n",
    "            total += period[1].dt - period[0].dt\n",
    "        guards[guard_id] = total.seconds//60\n",
    "    return guards"
   ]
  },
  {
   "cell_type": "code",
   "execution_count": 10,
   "metadata": {},
   "outputs": [
    {
     "name": "stdout",
     "output_type": "stream",
     "text": [
      "{10: 50, 99: 30}\n"
     ]
    }
   ],
   "source": [
    "print(total_sleep_time(get_guard_data(read_input(\"testinput.txt\"))))\n"
   ]
  },
  {
   "cell_type": "markdown",
   "metadata": {},
   "source": [
    "Now a function to find the minute when the guard was asleep most. By sorting the records, scanning through them, and recording the maximum overlap depth, we should find the correct time; this assumes there is only one minute that is correct."
   ]
  },
  {
   "cell_type": "code",
   "execution_count": 11,
   "metadata": {},
   "outputs": [],
   "source": [
    "from itertools import groupby\n",
    "def find_most_common_minute(records):\n",
    "    points = groupby(sorted(records, key=lambda r: r.dt.time()), key=lambda r: r.dt.minute)\n",
    "    depth = 0\n",
    "    max_depth = 0\n",
    "    max_depth_min = None\n",
    "    for k, point_set in points:\n",
    "        for point in point_set:\n",
    "            if point.event == 'falls asleep':\n",
    "                depth += 1\n",
    "            elif point.event == 'wakes up':\n",
    "                depth -= 1\n",
    "\n",
    "        if depth > max_depth:\n",
    "            max_depth = depth\n",
    "            max_depth_min = point.dt.minute\n",
    "    return max_depth_min, max_depth"
   ]
  },
  {
   "cell_type": "code",
   "execution_count": 12,
   "metadata": {},
   "outputs": [
    {
     "name": "stdout",
     "output_type": "stream",
     "text": [
      "(24, 2)\n"
     ]
    }
   ],
   "source": [
    "print(find_most_common_minute(test_guard_data[10]))"
   ]
  },
  {
   "cell_type": "markdown",
   "metadata": {},
   "source": [
    "I had to solve a subtle bug with this function. Consider this visualisation:\n",
    "\n",
    "```\n",
    "Date   ID   Minute\n",
    "            000000000011111111112222222222333333333344444444445555555555\n",
    "            012345678901234567890123456789012345678901234567890123456789\n",
    "11-01  #10  ...####...#########.........................................\n",
    "11-03  #10  ........##..................................................\n",
    "```\n",
    "\n",
    "Notice that at 00:10 on 1518-11-01 the guard falls asleep, but at the same time on 1518-11-03 the guard wakes up. The function `find_most_common_minute()` originally would give an incorrect output at this point. The points are sorted by time, but in the case of a conflict the original order is preserved, and so earlier dates come first (from `read_input()`). Therefore the record for the 'falls asleep' event on 11-01 is reached first; the original function would then increment `depth` and find this was a new maximum. However, because the guard had woken up on 11-03 at the same time, actually the depth shouldn't change at all. Therefore I changed the function to run through all of the records with a common minute, only updating the `max_depth` afterwards."
   ]
  },
  {
   "cell_type": "markdown",
   "metadata": {},
   "source": [
    "So far everything works for the test data. Lets try it on the actual input."
   ]
  },
  {
   "cell_type": "code",
   "execution_count": 13,
   "metadata": {},
   "outputs": [],
   "source": [
    "def solution1(filename):\n",
    "    records = read_input(filename)\n",
    "    guard_data = get_guard_data(records)\n",
    "    totals = total_sleep_time(guard_data)\n",
    "    max_total = max(totals.items(), key=lambda i: i[1])\n",
    "    mcm = find_most_common_minute(guard_data[max_total[0]])[0]\n",
    "    print(max_total, mcm)\n",
    "    print(max_total[0] * mcm)"
   ]
  },
  {
   "cell_type": "code",
   "execution_count": 14,
   "metadata": {
    "scrolled": true
   },
   "outputs": [
    {
     "name": "stdout",
     "output_type": "stream",
     "text": [
      "(10, 50) 24\n",
      "240\n"
     ]
    }
   ],
   "source": [
    "solution1(\"testinput.txt\")"
   ]
  },
  {
   "cell_type": "code",
   "execution_count": 15,
   "metadata": {},
   "outputs": [
    {
     "name": "stdout",
     "output_type": "stream",
     "text": [
      "(1993, 513) 36\n",
      "71748\n"
     ]
    }
   ],
   "source": [
    "solution1(\"input.txt\")"
   ]
  },
  {
   "cell_type": "markdown",
   "metadata": {},
   "source": [
    "# Part Two"
   ]
  },
  {
   "cell_type": "markdown",
   "metadata": {},
   "source": [
    "Now we need to find the guard that is most frequently asleep on the same minute, along with that minute. I think the way to solve this is to run `find_most_common_minute` on each guard, and find from this output what the max of each frequency is."
   ]
  },
  {
   "cell_type": "code",
   "execution_count": 16,
   "metadata": {},
   "outputs": [],
   "source": [
    "def solution2(filename):\n",
    "    records = read_input(filename)\n",
    "    guard_data = get_guard_data(records)\n",
    "    mcm = {}\n",
    "    for guard in guard_data:\n",
    "        mcm[guard] = find_most_common_minute(guard_data[guard])\n",
    "    max_mcm_depth = max(mcm, key=lambda k: mcm[k][1])\n",
    "    print(max_mcm_depth, mcm[max_mcm_depth])\n",
    "    print(max_mcm_depth * mcm[max_mcm_depth][0])"
   ]
  },
  {
   "cell_type": "code",
   "execution_count": 17,
   "metadata": {
    "scrolled": true
   },
   "outputs": [
    {
     "name": "stdout",
     "output_type": "stream",
     "text": [
      "99 (45, 3)\n",
      "4455\n"
     ]
    }
   ],
   "source": [
    "solution2(\"testinput.txt\")"
   ]
  },
  {
   "cell_type": "code",
   "execution_count": 18,
   "metadata": {},
   "outputs": [
    {
     "name": "stdout",
     "output_type": "stream",
     "text": [
      "2137 (50, 19)\n",
      "106850\n"
     ]
    }
   ],
   "source": [
    "solution2(\"input.txt\")"
   ]
  },
  {
   "cell_type": "markdown",
   "metadata": {},
   "source": [
    "# Visualiser"
   ]
  },
  {
   "cell_type": "markdown",
   "metadata": {},
   "source": [
    "Lets visualise the guards schedules, in a similar way to the problem description."
   ]
  },
  {
   "cell_type": "code",
   "execution_count": 19,
   "metadata": {},
   "outputs": [],
   "source": [
    "def vis_header(id_width=2):\n",
    "    header = \"Date\".ljust(len('XX-XX') + 2) + \"ID\".ljust(id_width + 3) + \"Minute\"\n",
    "    lines = [header]\n",
    "    \n",
    "    date_id_width = len(header) - len('Minute')\n",
    "    lines.append(' '*date_id_width + ''.join([str(ten_min) * 10 for ten_min in range(6)]))\n",
    "    \n",
    "    min_line = '0123456789' * 6\n",
    "    lines.append(' ' * date_id_width + min_line)\n",
    "    \n",
    "    return lines\n",
    "\n",
    "def vis_lines(guard, records, id_width=2):\n",
    "    data_lines = {}\n",
    "    for period in pairs(records):\n",
    "        p = (period[0].dt, period[1].dt)\n",
    "        data_lines.setdefault((p[0].month, p[0].day),\n",
    "                                  [\n",
    "                                      f\"{p[0].month:0>2}-{p[0].day:0>2}\",\n",
    "                                      f\"#{guard:0>{id_width}}\", \n",
    "                                      ['.']*60\n",
    "                                  ]\n",
    "                             )[2][p[0].minute:p[1].minute] = ['#']*(p[1].minute - p[0].minute)\n",
    "    \n",
    "    \n",
    "    lines = []\n",
    "    for l in data_lines.values():\n",
    "        l[2] = ''.join(l[2])\n",
    "        lines.append('  '.join(l))\n",
    "    return lines\n",
    "    \n",
    "def visualiser(guard_data, key=None):\n",
    "    id_width = max([len(str(k)) for k in guard_data.keys()])\n",
    "    \n",
    "    lines = []\n",
    "    lines.extend(vis_header(id_width))\n",
    "    \n",
    "    data_lines = []\n",
    "    for guard in guard_data:\n",
    "        data_lines.extend(vis_lines(guard, guard_data[guard], id_width))\n",
    "\n",
    "    lines.extend(sorted(data_lines, key=key))\n",
    "    \n",
    "    return '\\n'.join(lines)\n",
    "        "
   ]
  },
  {
   "cell_type": "code",
   "execution_count": 20,
   "metadata": {},
   "outputs": [
    {
     "name": "stdout",
     "output_type": "stream",
     "text": [
      "Date   ID   Minute\n",
      "            000000000011111111112222222222333333333344444444445555555555\n",
      "            012345678901234567890123456789012345678901234567890123456789\n",
      "11-01  #10  .....####################.....#########################.....\n",
      "11-02  #99  ........................................##########..........\n",
      "11-03  #10  ........................#####...............................\n",
      "11-04  #99  ....................................##########..............\n",
      "11-05  #99  .............................................##########.....\n"
     ]
    }
   ],
   "source": [
    "print(visualiser(test_guard_data))"
   ]
  },
  {
   "cell_type": "code",
   "execution_count": 21,
   "metadata": {},
   "outputs": [
    {
     "name": "stdout",
     "output_type": "stream",
     "text": [
      "Date   ID   Minute\n",
      "            000000000011111111112222222222333333333344444444445555555555\n",
      "            012345678901234567890123456789012345678901234567890123456789\n",
      "11-01  #10  .....####################.....#########################.....\n",
      "11-03  #10  ........................#####...............................\n",
      "11-02  #99  ........................................##########..........\n",
      "11-04  #99  ....................................##########..............\n",
      "11-05  #99  .............................................##########.....\n"
     ]
    }
   ],
   "source": [
    "def by_id(s):\n",
    "    return re.match(r\"\\d{2}-\\d{2}  #(\\d*)\", s).group(1)\n",
    "print(visualiser(test_guard_data, key=by_id))"
   ]
  },
  {
   "cell_type": "code",
   "execution_count": 24,
   "metadata": {},
   "outputs": [],
   "source": [
    "def highlighter(vis, minute):\n",
    "    vis = vis.split('\\n')\n",
    "    gap = len(vis[1]) - len(vis[1].strip())\n",
    "    for i in range(3, len(vis)):\n",
    "        if vis[i][gap+minute] == '#':\n",
    "            vis[i] = vis[i][:gap+minute] + 'O' + vis[i][gap+minute+1:]\n",
    "    return '\\n'.join(vis)"
   ]
  },
  {
   "cell_type": "code",
   "execution_count": 25,
   "metadata": {},
   "outputs": [
    {
     "name": "stdout",
     "output_type": "stream",
     "text": [
      "Date   ID     Minute\n",
      "              000000000011111111112222222222333333333344444444445555555555\n",
      "              012345678901234567890123456789012345678901234567890123456789\n",
      "02-20  #2137  ..........................................########OO######..\n",
      "02-25  #2137  ..................................................OO###.....\n",
      "02-27  #2137  ..................................................OO#######.\n",
      "03-01  #2137  .............#####################################OO........\n",
      "03-06  #2137  ................................................##OO###.....\n",
      "03-22  #2137  .....................#################.............O#.......\n",
      "03-23  #2137  .................###############################............\n",
      "03-27  #2137  ......####.....................................###OO#######.\n",
      "03-29  #2137  ................................................##OO#...##..\n",
      "04-14  #2137  .........#########......##########################OO##......\n",
      "04-21  #2137  ...............................................###OO........\n",
      "04-26  #2137  .############################...............................\n",
      "06-02  #2137  ##################################################OO####....\n",
      "06-06  #2137  ..........###..............#######################OO##......\n",
      "06-21  #2137  ..............................................####O.........\n",
      "07-27  #2137  .................................................#OO######..\n",
      "07-28  #2137  ........................##########################OO........\n",
      "08-02  #2137  .................................................#OO##...#..\n",
      "08-08  #2137  ..............................####################O.........\n",
      "08-30  #2137  ................##################..............##OO##......\n",
      "10-12  #2137  ...............................###################OO#.......\n",
      "10-24  #2137  ....................................##############OO######..\n",
      "11-22  #2137  .............................######..................##.....\n",
      "11-23  #2137  .......................................#########............\n"
     ]
    }
   ],
   "source": [
    "guard_data = get_guard_data(read_input(\"input.txt\"))\n",
    "vis = visualiser({2137: guard_data[2137]})\n",
    "vis = highlighter(highlighter(vis, 51), 50)\n",
    "print(vis)"
   ]
  }
 ],
 "metadata": {
  "kernelspec": {
   "display_name": "Python 3",
   "language": "python",
   "name": "python3"
  },
  "language_info": {
   "codemirror_mode": {
    "name": "ipython",
    "version": 3
   },
   "file_extension": ".py",
   "mimetype": "text/x-python",
   "name": "python",
   "nbconvert_exporter": "python",
   "pygments_lexer": "ipython3",
   "version": "3.7.1"
  },
  "widgets": {
   "application/vnd.jupyter.widget-state+json": {
    "state": {},
    "version_major": 2,
    "version_minor": 0
   }
  }
 },
 "nbformat": 4,
 "nbformat_minor": 2
}
