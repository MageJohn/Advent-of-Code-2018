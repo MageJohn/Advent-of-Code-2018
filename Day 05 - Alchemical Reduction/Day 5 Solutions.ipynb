{
 "cells": [
  {
   "cell_type": "markdown",
   "metadata": {},
   "source": [
    "# Part One"
   ]
  },
  {
   "cell_type": "markdown",
   "metadata": {},
   "source": [
    "I'm going with the straightforward solution: iterate through the polymer as a list, removing pairs as we find them. The only mildly interesting bit is that I find a pair by subtracting the two units from each other, and if the difference is 32 I've found a pair. This is because of how the ASCII table works. "
   ]
  },
  {
   "cell_type": "code",
   "execution_count": 1,
   "metadata": {},
   "outputs": [],
   "source": [
    "def read_input(filename):\n",
    "    with open(filename) as polymer:\n",
    "        polymer = polymer.read()\n",
    "    return list(polymer[:-1])"
   ]
  },
  {
   "cell_type": "code",
   "execution_count": 2,
   "metadata": {},
   "outputs": [],
   "source": [
    "def react_polymer(polymer):\n",
    "    i = 0\n",
    "    while i < len(polymer)-1:\n",
    "        if abs(ord(polymer[i]) - ord(polymer[i+1])) == 32:\n",
    "            del polymer[i:i+2]\n",
    "            i = i - 1 if i > 0 else i\n",
    "        else:\n",
    "            i += 1\n",
    "    return len(polymer)"
   ]
  },
  {
   "cell_type": "code",
   "execution_count": 3,
   "metadata": {},
   "outputs": [],
   "source": [
    "def solution1(filename):\n",
    "    polymer = read_input(filename)\n",
    "    print(react_polymer(polymer))"
   ]
  },
  {
   "cell_type": "code",
   "execution_count": 4,
   "metadata": {},
   "outputs": [
    {
     "name": "stdout",
     "output_type": "stream",
     "text": [
      "10\n"
     ]
    }
   ],
   "source": [
    "solution1(\"testinput.txt\")"
   ]
  },
  {
   "cell_type": "code",
   "execution_count": 5,
   "metadata": {},
   "outputs": [
    {
     "name": "stdout",
     "output_type": "stream",
     "text": [
      "9390\n"
     ]
    }
   ],
   "source": [
    "solution1(\"input.txt\")"
   ]
  },
  {
   "cell_type": "markdown",
   "metadata": {},
   "source": [
    "# Part Two"
   ]
  },
  {
   "cell_type": "markdown",
   "metadata": {},
   "source": [
    "I'm again going with the iterative, or brute force solution. Simply try all the possibilites, and take the best one."
   ]
  },
  {
   "cell_type": "code",
   "execution_count": 6,
   "metadata": {},
   "outputs": [],
   "source": [
    "def remove_unit(polymer, unit):\n",
    "    unit = unit.lower()\n",
    "    i = 0\n",
    "    while i < len(polymer):\n",
    "        if polymer[i].lower() == unit:\n",
    "            del polymer[i]\n",
    "        else:\n",
    "            i += 1"
   ]
  },
  {
   "cell_type": "code",
   "execution_count": 7,
   "metadata": {},
   "outputs": [],
   "source": [
    "import string\n",
    "\n",
    "def brute_force(polymer):\n",
    "    min_length = len(polymer)\n",
    "    for c in string.ascii_lowercase:\n",
    "        p = polymer[:]\n",
    "        remove_unit(p, c)\n",
    "        l = react_polymer(p)\n",
    "        min_length = min(min_length, l)\n",
    "    return min_length"
   ]
  },
  {
   "cell_type": "code",
   "execution_count": 8,
   "metadata": {},
   "outputs": [],
   "source": [
    "def solution2(filename):\n",
    "    polymer = read_input(filename)\n",
    "    print(brute_force(polymer))\n",
    "    "
   ]
  },
  {
   "cell_type": "code",
   "execution_count": 9,
   "metadata": {},
   "outputs": [
    {
     "name": "stdout",
     "output_type": "stream",
     "text": [
      "4\n"
     ]
    }
   ],
   "source": [
    "solution2(\"testinput.txt\")"
   ]
  },
  {
   "cell_type": "code",
   "execution_count": 10,
   "metadata": {},
   "outputs": [
    {
     "name": "stdout",
     "output_type": "stream",
     "text": [
      "5898\n"
     ]
    }
   ],
   "source": [
    "solution2(\"input.txt\")"
   ]
  }
 ],
 "metadata": {
  "kernelspec": {
   "display_name": "Python 3",
   "language": "python",
   "name": "python3"
  },
  "language_info": {
   "codemirror_mode": {
    "name": "ipython",
    "version": 3
   },
   "file_extension": ".py",
   "mimetype": "text/x-python",
   "name": "python",
   "nbconvert_exporter": "python",
   "pygments_lexer": "ipython3",
   "version": "3.7.1"
  }
 },
 "nbformat": 4,
 "nbformat_minor": 2
}
